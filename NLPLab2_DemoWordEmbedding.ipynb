{
  "nbformat": 4,
  "nbformat_minor": 0,
  "metadata": {
    "colab": {
      "provenance": [],
      "authorship_tag": "ABX9TyPc5KA1fuNUFIfR049v9AzW",
      "include_colab_link": true
    },
    "kernelspec": {
      "name": "python3",
      "display_name": "Python 3"
    },
    "language_info": {
      "name": "python"
    }
  },
  "cells": [
    {
      "cell_type": "markdown",
      "metadata": {
        "id": "view-in-github",
        "colab_type": "text"
      },
      "source": [
        "<a href=\"https://colab.research.google.com/github/toche7/GenAIEngWeek2/blob/main/DemoWordEmbedding.ipynb\" target=\"_parent\"><img src=\"https://colab.research.google.com/assets/colab-badge.svg\" alt=\"Open In Colab\"/></a>"
      ]
    },
    {
      "cell_type": "markdown",
      "source": [
        "# Word Embedding"
      ],
      "metadata": {
        "id": "HIG6VOuGq18M"
      }
    },
    {
      "cell_type": "markdown",
      "source": [
        "The most commonly used models for word embeddings are [word2vec](https://github.com/dav/word2vec/) and [GloVe](https://nlp.stanford.edu/projects/glove/) which are both unsupervised approaches based on the distributional hypothesis (words that occur in the same contexts tend to have similar meanings).\n",
        "\n",
        "\n",
        "![Замещающий текст](https://developers.google.com/machine-learning/crash-course/images/linear-relationships.svg)\n",
        "Image from [developers.google.com](https://developers.google.com/machine-learning/crash-course/embeddings/translating-to-a-lower-dimensional-space)\n",
        "\n",
        "Word2Vec vectors even allow some mathematic operations on vectors. For example, in this operation we are using word2vec vectors for each word:\n",
        "\n",
        "**king - man + woman = queen**"
      ],
      "metadata": {
        "id": "J0bk1fBeqGJS"
      }
    },
    {
      "cell_type": "markdown",
      "source": [
        "Another word embedding method is **Glove** (“Global Vectors”). It is based on matrix factorization techniques on the word-context matrix. It first constructs a large matrix of (words x context) co-occurrence information, i.e. for each “word” (the rows), you count how frequently we see this word in some “context” (the columns) in a large corpus. Then this matrix is factorized to a lower-dimensional (word x features) matrix, where each row now stores a vector representation for each word. In general, this is done by minimizing a “reconstruction loss”. This loss tries to find the lower-dimensional representations which can explain most of the variance in the high-dimensional data."
      ],
      "metadata": {
        "id": "WoMTqbXKqpye"
      }
    },
    {
      "cell_type": "code",
      "execution_count": 1,
      "metadata": {
        "id": "8z28TQ0v9-kb",
        "colab": {
          "base_uri": "https://localhost:8080/"
        },
        "outputId": "4ab14d9e-9667-4694-dcd7-e0cc9b361786"
      },
      "outputs": [
        {
          "output_type": "stream",
          "name": "stdout",
          "text": [
            "Requirement already satisfied: gensim in /usr/local/lib/python3.10/dist-packages (4.3.3)\n",
            "Requirement already satisfied: numpy<2.0,>=1.18.5 in /usr/local/lib/python3.10/dist-packages (from gensim) (1.26.4)\n",
            "Requirement already satisfied: scipy<1.14.0,>=1.7.0 in /usr/local/lib/python3.10/dist-packages (from gensim) (1.13.1)\n",
            "Requirement already satisfied: smart-open>=1.8.1 in /usr/local/lib/python3.10/dist-packages (from gensim) (7.0.4)\n",
            "Requirement already satisfied: wrapt in /usr/local/lib/python3.10/dist-packages (from smart-open>=1.8.1->gensim) (1.16.0)\n"
          ]
        }
      ],
      "source": [
        "!pip install gensim"
      ]
    },
    {
      "cell_type": "code",
      "source": [
        "import gensim.downloader"
      ],
      "metadata": {
        "id": "OHjJuAq5-DTv"
      },
      "execution_count": 2,
      "outputs": []
    },
    {
      "cell_type": "code",
      "source": [
        "model = gensim.downloader.load(\"glove-wiki-gigaword-50\")"
      ],
      "metadata": {
        "id": "4ulxLn2W-Lc0",
        "colab": {
          "base_uri": "https://localhost:8080/"
        },
        "outputId": "d4efffd8-0235-4ba2-cdd4-b67aac596e3d"
      },
      "execution_count": 3,
      "outputs": [
        {
          "output_type": "stream",
          "name": "stdout",
          "text": [
            "[==================================================] 100.0% 66.0/66.0MB downloaded\n"
          ]
        }
      ]
    },
    {
      "cell_type": "code",
      "source": [
        "len(model['tower'])"
      ],
      "metadata": {
        "id": "Pixy9mvA-NaT",
        "colab": {
          "base_uri": "https://localhost:8080/"
        },
        "outputId": "fc450ee6-f29a-4c33-e69a-7f03fcf03137"
      },
      "execution_count": 4,
      "outputs": [
        {
          "output_type": "execute_result",
          "data": {
            "text/plain": [
              "50"
            ]
          },
          "metadata": {},
          "execution_count": 4
        }
      ]
    },
    {
      "cell_type": "code",
      "source": [
        "model['man']"
      ],
      "metadata": {
        "id": "4fi7hTdi-ngI",
        "colab": {
          "base_uri": "https://localhost:8080/"
        },
        "outputId": "e08bc372-aea0-4fab-f9e7-cc51e1024d4b"
      },
      "execution_count": 5,
      "outputs": [
        {
          "output_type": "execute_result",
          "data": {
            "text/plain": [
              "array([-0.094386,  0.43007 , -0.17224 , -0.45529 ,  1.6447  ,  0.40335 ,\n",
              "       -0.37263 ,  0.25071 , -0.10588 ,  0.10778 , -0.10848 ,  0.15181 ,\n",
              "       -0.65396 ,  0.55054 ,  0.59591 , -0.46278 ,  0.11847 ,  0.64448 ,\n",
              "       -0.70948 ,  0.23947 , -0.82905 ,  1.272   ,  0.033021,  0.2935  ,\n",
              "        0.3911  , -2.8094  , -0.70745 ,  0.4106  ,  0.3894  , -0.2913  ,\n",
              "        2.6124  , -0.34576 , -0.16832 ,  0.25154 ,  0.31216 ,  0.31639 ,\n",
              "        0.12539 , -0.012646,  0.22297 , -0.56585 , -0.086264,  0.62549 ,\n",
              "       -0.0576  ,  0.29375 ,  0.66005 , -0.53115 , -0.48233 , -0.97925 ,\n",
              "        0.53135 , -0.11725 ], dtype=float32)"
            ]
          },
          "metadata": {},
          "execution_count": 5
        }
      ]
    },
    {
      "cell_type": "code",
      "source": [
        "model['woman']"
      ],
      "metadata": {
        "id": "2qD0yQLV-ymi",
        "colab": {
          "base_uri": "https://localhost:8080/"
        },
        "outputId": "0ccead60-aa67-4d26-a876-a8b514eb6332"
      },
      "execution_count": 6,
      "outputs": [
        {
          "output_type": "execute_result",
          "data": {
            "text/plain": [
              "array([-1.8153e-01,  6.4827e-01, -5.8210e-01, -4.9451e-01,  1.5415e+00,\n",
              "        1.3450e+00, -4.3305e-01,  5.8059e-01,  3.5556e-01, -2.5184e-01,\n",
              "        2.0254e-01, -7.1643e-01,  3.0610e-01,  5.6127e-01,  8.3928e-01,\n",
              "       -3.8085e-01, -9.0875e-01,  4.3326e-01, -1.4436e-02,  2.3725e-01,\n",
              "       -5.3799e-01,  1.7773e+00, -6.6433e-02,  6.9795e-01,  6.9291e-01,\n",
              "       -2.6739e+00, -7.6805e-01,  3.3929e-01,  1.9695e-01, -3.5245e-01,\n",
              "        2.2920e+00, -2.7411e-01, -3.0169e-01,  8.5286e-04,  1.6923e-01,\n",
              "        9.1433e-02, -2.3610e-02,  3.6236e-02,  3.4488e-01, -8.3947e-01,\n",
              "       -2.5174e-01,  4.2123e-01,  4.8616e-01,  2.2325e-02,  5.5760e-01,\n",
              "       -8.5223e-01, -2.3073e-01, -1.3138e+00,  4.8764e-01, -1.0467e-01],\n",
              "      dtype=float32)"
            ]
          },
          "metadata": {},
          "execution_count": 6
        }
      ]
    },
    {
      "cell_type": "markdown",
      "source": [
        "#### Perform the vector arithmetic: \"king\" - \"man\" + \"woman\""
      ],
      "metadata": {
        "id": "R-RzDY5Ro4Ok"
      }
    },
    {
      "cell_type": "code",
      "source": [
        "\n",
        "\n",
        "# Perform the vector arithmetic: \"king\" - \"man\" + \"woman\"\n",
        "result_vector = model['king'] - model['man'] + model['woman']\n",
        "\n",
        "# Find the most similar words to the resulting vector\n",
        "similar_words = model.similar_by_vector(result_vector, topn = 3)\n",
        "\n",
        "print(similar_words)\n"
      ],
      "metadata": {
        "id": "qRZmMgVI-1xs",
        "colab": {
          "base_uri": "https://localhost:8080/"
        },
        "outputId": "9d7f820f-38cc-4b78-e82f-8171c825b0d1"
      },
      "execution_count": 7,
      "outputs": [
        {
          "output_type": "stream",
          "name": "stdout",
          "text": [
            "[('king', 0.8859834671020508), ('queen', 0.8609582185745239), ('daughter', 0.7684512734413147)]\n"
          ]
        }
      ]
    },
    {
      "cell_type": "markdown",
      "source": [
        "#### Perform the vector arithmetic: \"father\" - \"man\" + \"woman\""
      ],
      "metadata": {
        "id": "jjQ5VmrEpNyM"
      }
    },
    {
      "cell_type": "code",
      "source": [
        "\n",
        "\n",
        "result_vector = model['father'] - model['man'] + model['woman']\n",
        "\n",
        "# Find the most similar words to the resulting vector\n",
        "similar_words = model.similar_by_vector(result_vector, topn = 3)\n",
        "\n",
        "print(similar_words)"
      ],
      "metadata": {
        "id": "1QaAAp5Y_hkW",
        "colab": {
          "base_uri": "https://localhost:8080/"
        },
        "outputId": "cf272394-e4c4-4a63-f490-dbb6645aad07"
      },
      "execution_count": 8,
      "outputs": [
        {
          "output_type": "stream",
          "name": "stdout",
          "text": [
            "[('mother', 0.9371241331100464), ('daughter', 0.9308127760887146), ('wife', 0.9084324836730957)]\n"
          ]
        }
      ]
    }
  ]
}