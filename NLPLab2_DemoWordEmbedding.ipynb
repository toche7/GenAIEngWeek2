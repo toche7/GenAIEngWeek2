{
  "cells": [
    {
      "cell_type": "markdown",
      "metadata": {
        "id": "view-in-github",
        "colab_type": "text"
      },
      "source": [
        "<a href=\"https://colab.research.google.com/github/toche7/GenAIEngWeek2/blob/main/NLPLab2_DemoWordEmbedding.ipynb\" target=\"_parent\"><img src=\"https://colab.research.google.com/assets/colab-badge.svg\" alt=\"Open In Colab\"/></a>"
      ]
    },
    {
      "cell_type": "markdown",
      "metadata": {
        "id": "HIG6VOuGq18M"
      },
      "source": [
        "# Word Embedding"
      ]
    },
    {
      "cell_type": "markdown",
      "metadata": {
        "id": "J0bk1fBeqGJS"
      },
      "source": [
        "The most commonly used models for word embeddings are [word2vec](https://github.com/dav/word2vec/) and [GloVe](https://nlp.stanford.edu/projects/glove/) which are both unsupervised approaches based on the distributional hypothesis (words that occur in the same contexts tend to have similar meanings).\n",
        "\n",
        "\n",
        "![Замещающий текст](https://developers.google.com/machine-learning/crash-course/images/linear-relationships.svg)\n",
        "Image from [developers.google.com](https://developers.google.com/machine-learning/crash-course/embeddings/translating-to-a-lower-dimensional-space)\n",
        "\n",
        "Word2Vec vectors even allow some mathematic operations on vectors. For example, in this operation we are using word2vec vectors for each word:\n",
        "\n",
        "**king - man + woman = queen**"
      ]
    },
    {
      "cell_type": "markdown",
      "metadata": {
        "id": "WoMTqbXKqpye"
      },
      "source": [
        "Another word embedding method is **Glove** (“Global Vectors”). It is based on matrix factorization techniques on the word-context matrix. It first constructs a large matrix of (words x context) co-occurrence information, i.e. for each “word” (the rows), you count how frequently we see this word in some “context” (the columns) in a large corpus. Then this matrix is factorized to a lower-dimensional (word x features) matrix, where each row now stores a vector representation for each word. In general, this is done by minimizing a “reconstruction loss”. This loss tries to find the lower-dimensional representations which can explain most of the variance in the high-dimensional data."
      ]
    },
    {
      "cell_type": "code",
      "source": [
        "!pip install numpy --upgrade\n",
        "!pip install gensim"
      ],
      "metadata": {
        "id": "gX7A3ozPbJAp"
      },
      "execution_count": null,
      "outputs": []
    },
    {
      "cell_type": "code",
      "execution_count": null,
      "metadata": {
        "id": "OHjJuAq5-DTv"
      },
      "outputs": [],
      "source": [
        "import gensim.downloader"
      ]
    },
    {
      "cell_type": "code",
      "execution_count": null,
      "metadata": {
        "id": "4ulxLn2W-Lc0"
      },
      "outputs": [],
      "source": [
        "model = gensim.downloader.load(\"glove-wiki-gigaword-50\")"
      ]
    },
    {
      "cell_type": "code",
      "execution_count": null,
      "metadata": {
        "id": "Pixy9mvA-NaT"
      },
      "outputs": [],
      "source": [
        "len(model['tower'])"
      ]
    },
    {
      "cell_type": "code",
      "execution_count": null,
      "metadata": {
        "id": "4fi7hTdi-ngI"
      },
      "outputs": [],
      "source": [
        "model['man']"
      ]
    },
    {
      "cell_type": "code",
      "execution_count": null,
      "metadata": {
        "id": "2qD0yQLV-ymi"
      },
      "outputs": [],
      "source": [
        "model['woman']"
      ]
    },
    {
      "cell_type": "markdown",
      "metadata": {
        "id": "R-RzDY5Ro4Ok"
      },
      "source": [
        "#### Perform the vector arithmetic: \"king\" - \"man\" + \"woman\""
      ]
    },
    {
      "cell_type": "code",
      "execution_count": null,
      "metadata": {
        "id": "qRZmMgVI-1xs"
      },
      "outputs": [],
      "source": [
        "\n",
        "\n",
        "# Perform the vector arithmetic: \"king\" - \"man\" + \"woman\"\n",
        "result_vector = model['king'] - model['man'] + model['woman']\n",
        "\n",
        "# Find the most similar words to the resulting vector\n",
        "similar_words = model.similar_by_vector(result_vector, topn = 3)\n",
        "\n",
        "print(similar_words)\n"
      ]
    },
    {
      "cell_type": "markdown",
      "metadata": {
        "id": "jjQ5VmrEpNyM"
      },
      "source": [
        "#### Perform the vector arithmetic: \"father\" - \"man\" + \"woman\""
      ]
    },
    {
      "cell_type": "code",
      "execution_count": null,
      "metadata": {
        "id": "1QaAAp5Y_hkW"
      },
      "outputs": [],
      "source": [
        "\n",
        "\n",
        "result_vector = model['father'] - model['man'] + model['woman']\n",
        "\n",
        "# Find the most similar words to the resulting vector\n",
        "similar_words = model.similar_by_vector(result_vector, topn = 3)\n",
        "\n",
        "print(similar_words)"
      ]
    }
  ],
  "metadata": {
    "colab": {
      "provenance": [],
      "authorship_tag": "ABX9TyObEI3xqpG1jfKJaDG05CFR",
      "include_colab_link": true
    },
    "kernelspec": {
      "display_name": "Python 3",
      "name": "python3"
    },
    "language_info": {
      "codemirror_mode": {
        "name": "ipython",
        "version": 3
      },
      "file_extension": ".py",
      "mimetype": "text/x-python",
      "name": "python",
      "nbconvert_exporter": "python",
      "pygments_lexer": "ipython3",
      "version": "3.10.13"
    }
  },
  "nbformat": 4,
  "nbformat_minor": 0
}