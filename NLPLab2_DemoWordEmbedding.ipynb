{
  "cells": [
    {
      "cell_type": "markdown",
      "metadata": {
        "colab_type": "text",
        "id": "view-in-github"
      },
      "source": [
        "<a href=\"https://colab.research.google.com/github/toche7/GenAIEngWeek2/blob/main/DemoWordEmbedding.ipynb\" target=\"_parent\"><img src=\"https://colab.research.google.com/assets/colab-badge.svg\" alt=\"Open In Colab\"/></a>"
      ]
    },
    {
      "cell_type": "markdown",
      "metadata": {
        "id": "HIG6VOuGq18M"
      },
      "source": [
        "# Word Embedding"
      ]
    },
    {
      "cell_type": "markdown",
      "metadata": {
        "id": "J0bk1fBeqGJS"
      },
      "source": [
        "The most commonly used models for word embeddings are [word2vec](https://github.com/dav/word2vec/) and [GloVe](https://nlp.stanford.edu/projects/glove/) which are both unsupervised approaches based on the distributional hypothesis (words that occur in the same contexts tend to have similar meanings).\n",
        "\n",
        "\n",
        "![Замещающий текст](https://developers.google.com/machine-learning/crash-course/images/linear-relationships.svg)\n",
        "Image from [developers.google.com](https://developers.google.com/machine-learning/crash-course/embeddings/translating-to-a-lower-dimensional-space)\n",
        "\n",
        "Word2Vec vectors even allow some mathematic operations on vectors. For example, in this operation we are using word2vec vectors for each word:\n",
        "\n",
        "**king - man + woman = queen**"
      ]
    },
    {
      "cell_type": "markdown",
      "metadata": {
        "id": "WoMTqbXKqpye"
      },
      "source": [
        "Another word embedding method is **Glove** (“Global Vectors”). It is based on matrix factorization techniques on the word-context matrix. It first constructs a large matrix of (words x context) co-occurrence information, i.e. for each “word” (the rows), you count how frequently we see this word in some “context” (the columns) in a large corpus. Then this matrix is factorized to a lower-dimensional (word x features) matrix, where each row now stores a vector representation for each word. In general, this is done by minimizing a “reconstruction loss”. This loss tries to find the lower-dimensional representations which can explain most of the variance in the high-dimensional data."
      ]
    },
    {
      "cell_type": "code",
      "execution_count": null,
      "metadata": {
        "colab": {
          "base_uri": "https://localhost:8080/"
        },
        "id": "8z28TQ0v9-kb",
        "outputId": "4ab14d9e-9667-4694-dcd7-e0cc9b361786"
      },
      "outputs": [],
      "source": [
        "!pip install gensim"
      ]
    },
    {
      "cell_type": "code",
      "execution_count": 2,
      "metadata": {
        "id": "OHjJuAq5-DTv"
      },
      "outputs": [],
      "source": [
        "import gensim.downloader"
      ]
    },
    {
      "cell_type": "code",
      "execution_count": null,
      "metadata": {
        "colab": {
          "base_uri": "https://localhost:8080/"
        },
        "id": "4ulxLn2W-Lc0",
        "outputId": "d4efffd8-0235-4ba2-cdd4-b67aac596e3d"
      },
      "outputs": [],
      "source": [
        "model = gensim.downloader.load(\"glove-wiki-gigaword-50\")"
      ]
    },
    {
      "cell_type": "code",
      "execution_count": null,
      "metadata": {
        "colab": {
          "base_uri": "https://localhost:8080/"
        },
        "id": "Pixy9mvA-NaT",
        "outputId": "fc450ee6-f29a-4c33-e69a-7f03fcf03137"
      },
      "outputs": [],
      "source": [
        "len(model['tower'])"
      ]
    },
    {
      "cell_type": "code",
      "execution_count": null,
      "metadata": {
        "colab": {
          "base_uri": "https://localhost:8080/"
        },
        "id": "4fi7hTdi-ngI",
        "outputId": "e08bc372-aea0-4fab-f9e7-cc51e1024d4b"
      },
      "outputs": [],
      "source": [
        "model['man']"
      ]
    },
    {
      "cell_type": "code",
      "execution_count": null,
      "metadata": {
        "colab": {
          "base_uri": "https://localhost:8080/"
        },
        "id": "2qD0yQLV-ymi",
        "outputId": "0ccead60-aa67-4d26-a876-a8b514eb6332"
      },
      "outputs": [],
      "source": [
        "model['woman']"
      ]
    },
    {
      "cell_type": "markdown",
      "metadata": {
        "id": "R-RzDY5Ro4Ok"
      },
      "source": [
        "#### Perform the vector arithmetic: \"king\" - \"man\" + \"woman\""
      ]
    },
    {
      "cell_type": "code",
      "execution_count": null,
      "metadata": {
        "colab": {
          "base_uri": "https://localhost:8080/"
        },
        "id": "qRZmMgVI-1xs",
        "outputId": "9d7f820f-38cc-4b78-e82f-8171c825b0d1"
      },
      "outputs": [],
      "source": [
        "\n",
        "\n",
        "# Perform the vector arithmetic: \"king\" - \"man\" + \"woman\"\n",
        "result_vector = model['king'] - model['man'] + model['woman']\n",
        "\n",
        "# Find the most similar words to the resulting vector\n",
        "similar_words = model.similar_by_vector(result_vector, topn = 3)\n",
        "\n",
        "print(similar_words)\n"
      ]
    },
    {
      "cell_type": "markdown",
      "metadata": {
        "id": "jjQ5VmrEpNyM"
      },
      "source": [
        "#### Perform the vector arithmetic: \"father\" - \"man\" + \"woman\""
      ]
    },
    {
      "cell_type": "code",
      "execution_count": null,
      "metadata": {
        "colab": {
          "base_uri": "https://localhost:8080/"
        },
        "id": "1QaAAp5Y_hkW",
        "outputId": "cf272394-e4c4-4a63-f490-dbb6645aad07"
      },
      "outputs": [],
      "source": [
        "\n",
        "\n",
        "result_vector = model['father'] - model['man'] + model['woman']\n",
        "\n",
        "# Find the most similar words to the resulting vector\n",
        "similar_words = model.similar_by_vector(result_vector, topn = 3)\n",
        "\n",
        "print(similar_words)"
      ]
    }
  ],
  "metadata": {
    "colab": {
      "authorship_tag": "ABX9TyPc5KA1fuNUFIfR049v9AzW",
      "include_colab_link": true,
      "provenance": []
    },
    "kernelspec": {
      "display_name": "Python 3",
      "name": "python3"
    },
    "language_info": {
      "codemirror_mode": {
        "name": "ipython",
        "version": 3
      },
      "file_extension": ".py",
      "mimetype": "text/x-python",
      "name": "python",
      "nbconvert_exporter": "python",
      "pygments_lexer": "ipython3",
      "version": "3.10.13"
    }
  },
  "nbformat": 4,
  "nbformat_minor": 0
}
